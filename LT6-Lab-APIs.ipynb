{
 "cells": [
  {
   "cell_type": "markdown",
   "id": "cb0eeecc",
   "metadata": {},
   "source": [
    "# Background \n",
    "\n",
    "    Starting from any random Wikipedia page, following the first* page link of the current page will eventually lead you to the \"Philosophy\" page of Wikipedia (~95% of the time).\n",
    "     \n",
    "    * Due to the structure of Wikipedia articles, the first valid link must NOT:\n",
    "        \n",
    "        be in either parentheses (usually language pages) or italics (usually disambiguations)\n",
    "        \n",
    "        be a link to either a meta page, a page outside Wikipedia, or a broken link\n",
    "        \n",
    "        be an in-page citation\n",
    "        \n",
    "        \n",
    "        "
   ]
  },
  {
   "cell_type": "markdown",
   "id": "4852f5e4",
   "metadata": {},
   "source": [
    "## Basic Goal\n",
    "\n",
    "    Make a webcrawler that starts from a random Wikipedia page, and follows the first page link until it either finds the Philosophy page, a page with no links, or loops back to a previously visited link.\n",
    "    \n",
    "    Return the name of the starting page, and the degrees of separation from the Philosophy page (set degree to -1 if terminates otherwise)\n",
    "\n",
    "        Ex. the page \"Kevin Bacon\" should have a degree of separation of 12\n",
    "        \n",
    "    NOTE: For crawling, use either the Wikipedia API or \n",
    "    \n",
    "    \n",
    "    You can start from a random Wikipedia page with a URL (https://en.wikipedia.org/wiki/Special:Random)   \n",
    "    \n",
    "   "
   ]
  },
  {
   "cell_type": "markdown",
   "id": "dbc553ec",
   "metadata": {},
   "source": [
    "## Tips\n",
    "\n",
    " \n",
    "        \n",
    "    Use a while-loop for the crawling, but add a maximum search number if you're still debugging it\n",
    "    \n",
    "    When searching for links, you're always looking at the main text of the page (use the HTML structure)\n",
    "        \n",
    "        \n",
    "        \n",
    "        "
   ]
  },
  {
   "cell_type": "markdown",
   "id": "d98ab187",
   "metadata": {},
   "source": [
    "## Advanced Goals\n",
    "\n",
    "    1.) Get the degrees of separation for 1000 random pages. Find the median degree of separation as well as the distribution.\n",
    "    \n",
    "    2.) Considering your results, and the size of the English Wikipedia, estimate how many pages there are of degree 6.\n",
    "    \n",
    "    3.) Try the Cebuano Wikipedia. Following the same rules above, determine the network structure. \n",
    "    Is there is a page that all others tend to lead back to? \n",
    "    Does it tend to loop more? \n",
    "    In any case, are the degrees generally shorter/longer?\n",
    "    \n",
    "        "
   ]
  },
  {
   "cell_type": "code",
   "execution_count": 7,
   "id": "01c9d976",
   "metadata": {},
   "outputs": [],
   "source": [
    "import time\n",
    "import pandas as pd\n",
    "import matplotlib.pyplot as plt\n",
    "\n",
    "from typing import Tuple\n",
    "from selenium import webdriver\n",
    "from selenium.webdriver.common.by import By\n",
    "from selenium.common.exceptions import NoSuchElementException"
   ]
  },
  {
   "cell_type": "markdown",
   "id": "a88e91c6",
   "metadata": {},
   "source": [
    "# Wikipedia Crawler"
   ]
  },
  {
   "cell_type": "markdown",
   "id": "6f82bd1f",
   "metadata": {},
   "source": [
    "## Implementation for Single Link"
   ]
  },
  {
   "cell_type": "code",
   "execution_count": 4,
   "id": "30b23310",
   "metadata": {},
   "outputs": [],
   "source": [
    "def find_philosophy(\n",
    "        start_url: str = \"https://en.wikipedia.org/wiki/Special:Random\",\n",
    "        target_url: str = \"https://en.wikipedia.org/wiki/Philosophy\",\n",
    ") -> Tuple[str, int]:\n",
    "    \n",
    "\tnext_url = start_url\n",
    "\tvisited_urls = set()\n",
    "\tdegrees = 0\n",
    "\n",
    "\ttry:\n",
    "\t\toptions = webdriver.ChromeOptions()\n",
    "\t\toptions.add_argument(\"--headless\")\n",
    "\t\tpath = \"/usr/local/bin/chromedriver\"\n",
    "\t\tchrome_service = webdriver.ChromeService(executable_path=path)\n",
    "\t\tdriver = webdriver.Chrome(service=chrome_service, options=options)\n",
    "\t\tdriver.get(start_url)\n",
    "\t\tstarting_title = driver.title\n",
    "\n",
    "\t\twhile True:\n",
    "\t\t\tif next_url in visited_urls:\n",
    "\t\t\t\tdegrees = -1\n",
    "\t\t\t\tprint(\"Loop detected!\")\n",
    "\t\t\t\tbreak\n",
    "\n",
    "\t\t\tif next_url == target_url:\n",
    "\t\t\t\tprint(\"Philosophy has been reached!\")\n",
    "\t\t\t\tbreak\n",
    "\n",
    "\t\t\tvisited_urls.add(next_url)\n",
    "\t\t\tdriver.get(next_url)\n",
    "\n",
    "\t\t\ttry:\n",
    "\t\t\t\tmain_content = driver.find_element(\"id\", \"mw-content-text\")\n",
    "\t\t\t\tlinks = main_content.find_elements(By.CSS_SELECTOR, \"div.mw-parser-output > p a\")\n",
    "\n",
    "\t\t\t\tfound_valid_link = False\n",
    "\n",
    "\t\t\t\tfor link in links[:5]:\n",
    "\t\t\t\t\thref = link.get_attribute(\"href\")\n",
    "\t\t\t\t\tif (\n",
    "\t\t\t\t\t\thref and \"/wiki\" in href and\n",
    "\t\t\t\t\t\t\":\" not in href.split(\"/wiki/\")[-1] and\n",
    "\t\t\t\t\t\t\"cite_note\" not in href\n",
    "\t\t\t\t\t):\n",
    "\t\t\t\t\t\tnext_url = href\n",
    "\t\t\t\t\t\tfound_valid_link = True\n",
    "\t\t\t\t\t\tdegrees +=1\n",
    "\t\t\t\t\t\tbreak\n",
    "\n",
    "\t\t\t\tif not found_valid_link:\n",
    "\t\t\t\t\tdegrees = -1\n",
    "\t\t\t\t\tprint(\"Invalid link!\")\n",
    "\t\t\t\t\tbreak\n",
    "\n",
    "\t\t\texcept NoSuchElementException:\n",
    "\t\t\t\tdegrees = -1\n",
    "\t\t\t\tbreak\n",
    "\n",
    "\t\t\ttime.sleep(0.5)\n",
    "\n",
    "\tfinally:\n",
    "\t\tdriver.quit()\n",
    "\n",
    "\treturn (starting_title, degrees)"
   ]
  },
  {
   "cell_type": "code",
   "execution_count": 5,
   "id": "54536c1f",
   "metadata": {},
   "outputs": [
    {
     "name": "stdout",
     "output_type": "stream",
     "text": [
      "Philosophy has been reached!\n"
     ]
    },
    {
     "data": {
      "text/plain": [
       "('Kevin Bacon - Wikipedia', 13)"
      ]
     },
     "execution_count": 5,
     "metadata": {},
     "output_type": "execute_result"
    }
   ],
   "source": [
    "results = find_philosophy(start_url=\"https://en.wikipedia.org/wiki/Kevin_Bacon\")\n",
    "results"
   ]
  },
  {
   "cell_type": "markdown",
   "id": "8a43adfb",
   "metadata": {},
   "source": [
    "## Implementation for 1000 Pages"
   ]
  },
  {
   "cell_type": "markdown",
   "id": "0de7fedf",
   "metadata": {},
   "source": [
    "### Median degree of separation and distribution"
   ]
  },
  {
   "cell_type": "code",
   "execution_count": 6,
   "id": "28cb1b46",
   "metadata": {},
   "outputs": [
    {
     "name": "stdout",
     "output_type": "stream",
     "text": [
      "Processing page 0/1000...\n",
      "Philosophy has been reached!\n",
      "Philosophy has been reached!\n",
      "Philosophy has been reached!\n"
     ]
    }
   ],
   "source": [
    "pages = {}\n",
    "\n",
    "for i in range(3):\n",
    "    if i % 10 == 0:\n",
    "        print(f\"Processing page {i}/1000...\")\n",
    "    key, value = find_philosophy()\n",
    "    pages[key] = value"
   ]
  },
  {
   "cell_type": "code",
   "execution_count": 7,
   "id": "03cda820",
   "metadata": {},
   "outputs": [
    {
     "data": {
      "text/html": [
       "<div>\n",
       "<style scoped>\n",
       "    .dataframe tbody tr th:only-of-type {\n",
       "        vertical-align: middle;\n",
       "    }\n",
       "\n",
       "    .dataframe tbody tr th {\n",
       "        vertical-align: top;\n",
       "    }\n",
       "\n",
       "    .dataframe thead th {\n",
       "        text-align: right;\n",
       "    }\n",
       "</style>\n",
       "<table border=\"1\" class=\"dataframe\">\n",
       "  <thead>\n",
       "    <tr style=\"text-align: right;\">\n",
       "      <th></th>\n",
       "      <th>first_page</th>\n",
       "      <th>degrees</th>\n",
       "    </tr>\n",
       "  </thead>\n",
       "  <tbody>\n",
       "    <tr>\n",
       "      <th>0</th>\n",
       "      <td>Harry S. Truman Historic District - Wikipedia</td>\n",
       "      <td>17</td>\n",
       "    </tr>\n",
       "    <tr>\n",
       "      <th>1</th>\n",
       "      <td>Walks of Life - Wikipedia</td>\n",
       "      <td>25</td>\n",
       "    </tr>\n",
       "    <tr>\n",
       "      <th>2</th>\n",
       "      <td>Ivan Kirev - Wikipedia</td>\n",
       "      <td>8</td>\n",
       "    </tr>\n",
       "  </tbody>\n",
       "</table>\n",
       "</div>"
      ],
      "text/plain": [
       "                                      first_page  degrees\n",
       "0  Harry S. Truman Historic District - Wikipedia       17\n",
       "1                      Walks of Life - Wikipedia       25\n",
       "2                         Ivan Kirev - Wikipedia        8"
      ]
     },
     "execution_count": 7,
     "metadata": {},
     "output_type": "execute_result"
    }
   ],
   "source": [
    "df = pd.DataFrame(list(pages.items()), columns=['first_page', 'degrees'])\n",
    "df"
   ]
  },
  {
   "cell_type": "code",
   "execution_count": 3,
   "id": "db20dd29",
   "metadata": {},
   "outputs": [
    {
     "data": {
      "text/html": [
       "<div>\n",
       "<style scoped>\n",
       "    .dataframe tbody tr th:only-of-type {\n",
       "        vertical-align: middle;\n",
       "    }\n",
       "\n",
       "    .dataframe tbody tr th {\n",
       "        vertical-align: top;\n",
       "    }\n",
       "\n",
       "    .dataframe thead th {\n",
       "        text-align: right;\n",
       "    }\n",
       "</style>\n",
       "<table border=\"1\" class=\"dataframe\">\n",
       "  <thead>\n",
       "    <tr style=\"text-align: right;\">\n",
       "      <th></th>\n",
       "      <th>first_page</th>\n",
       "      <th>degrees</th>\n",
       "    </tr>\n",
       "  </thead>\n",
       "  <tbody>\n",
       "    <tr>\n",
       "      <th>0</th>\n",
       "      <td>Susanna Wesley - Wikipedia</td>\n",
       "      <td>9</td>\n",
       "    </tr>\n",
       "    <tr>\n",
       "      <th>1</th>\n",
       "      <td>1990 Houston Oilers season - Wikipedia</td>\n",
       "      <td>-1</td>\n",
       "    </tr>\n",
       "    <tr>\n",
       "      <th>2</th>\n",
       "      <td>Appalachian Athletic Conference - Wikipedia</td>\n",
       "      <td>10</td>\n",
       "    </tr>\n",
       "    <tr>\n",
       "      <th>3</th>\n",
       "      <td>Rubini (footballer) - Wikipedia</td>\n",
       "      <td>-1</td>\n",
       "    </tr>\n",
       "    <tr>\n",
       "      <th>4</th>\n",
       "      <td>Matayaya - Wikipedia</td>\n",
       "      <td>-1</td>\n",
       "    </tr>\n",
       "    <tr>\n",
       "      <th>5</th>\n",
       "      <td>Auguste Simon Paris - Wikipedia</td>\n",
       "      <td>17</td>\n",
       "    </tr>\n",
       "    <tr>\n",
       "      <th>6</th>\n",
       "      <td>NaN</td>\n",
       "      <td>14</td>\n",
       "    </tr>\n",
       "    <tr>\n",
       "      <th>7</th>\n",
       "      <td>2014 TCU Horned Frogs football team - Wikipedia</td>\n",
       "      <td>12</td>\n",
       "    </tr>\n",
       "    <tr>\n",
       "      <th>8</th>\n",
       "      <td>Chenareh - Wikipedia</td>\n",
       "      <td>18</td>\n",
       "    </tr>\n",
       "    <tr>\n",
       "      <th>9</th>\n",
       "      <td>P. Guruswamy - Wikipedia</td>\n",
       "      <td>-1</td>\n",
       "    </tr>\n",
       "    <tr>\n",
       "      <th>10</th>\n",
       "      <td>Mary Czerwinski - Wikipedia</td>\n",
       "      <td>-1</td>\n",
       "    </tr>\n",
       "    <tr>\n",
       "      <th>11</th>\n",
       "      <td>Distributed AOP - Wikipedia</td>\n",
       "      <td>-1</td>\n",
       "    </tr>\n",
       "    <tr>\n",
       "      <th>12</th>\n",
       "      <td>Sergei Yeliseyev (admiral) - Wikipedia</td>\n",
       "      <td>14</td>\n",
       "    </tr>\n",
       "    <tr>\n",
       "      <th>13</th>\n",
       "      <td>Merry-sur-Yonne - Wikipedia</td>\n",
       "      <td>-1</td>\n",
       "    </tr>\n",
       "    <tr>\n",
       "      <th>14</th>\n",
       "      <td>Gajeva planina - Wikipedia</td>\n",
       "      <td>-1</td>\n",
       "    </tr>\n",
       "    <tr>\n",
       "      <th>15</th>\n",
       "      <td>Uma Shankar Pandey - Wikipedia</td>\n",
       "      <td>26</td>\n",
       "    </tr>\n",
       "    <tr>\n",
       "      <th>16</th>\n",
       "      <td>Insight on Africa - Wikipedia</td>\n",
       "      <td>13</td>\n",
       "    </tr>\n",
       "    <tr>\n",
       "      <th>17</th>\n",
       "      <td>List of wineries in New Mexico - Wikipedia</td>\n",
       "      <td>18</td>\n",
       "    </tr>\n",
       "    <tr>\n",
       "      <th>18</th>\n",
       "      <td>John Haines - Wikipedia</td>\n",
       "      <td>22</td>\n",
       "    </tr>\n",
       "    <tr>\n",
       "      <th>19</th>\n",
       "      <td>Evolutions Television - Wikipedia</td>\n",
       "      <td>27</td>\n",
       "    </tr>\n",
       "  </tbody>\n",
       "</table>\n",
       "</div>"
      ],
      "text/plain": [
       "                                         first_page  degrees\n",
       "0                        Susanna Wesley - Wikipedia        9\n",
       "1            1990 Houston Oilers season - Wikipedia       -1\n",
       "2       Appalachian Athletic Conference - Wikipedia       10\n",
       "3                   Rubini (footballer) - Wikipedia       -1\n",
       "4                              Matayaya - Wikipedia       -1\n",
       "5                   Auguste Simon Paris - Wikipedia       17\n",
       "6                                               NaN       14\n",
       "7   2014 TCU Horned Frogs football team - Wikipedia       12\n",
       "8                              Chenareh - Wikipedia       18\n",
       "9                          P. Guruswamy - Wikipedia       -1\n",
       "10                      Mary Czerwinski - Wikipedia       -1\n",
       "11                      Distributed AOP - Wikipedia       -1\n",
       "12           Sergei Yeliseyev (admiral) - Wikipedia       14\n",
       "13                      Merry-sur-Yonne - Wikipedia       -1\n",
       "14                       Gajeva planina - Wikipedia       -1\n",
       "15                   Uma Shankar Pandey - Wikipedia       26\n",
       "16                    Insight on Africa - Wikipedia       13\n",
       "17       List of wineries in New Mexico - Wikipedia       18\n",
       "18                          John Haines - Wikipedia       22\n",
       "19                Evolutions Television - Wikipedia       27"
      ]
     },
     "execution_count": 3,
     "metadata": {},
     "output_type": "execute_result"
    }
   ],
   "source": [
    "df = pd.read_csv(\"/Users/katecastillo/Documents/MSDS/wikipedia-crawler/results_20241027-050554.csv\")\n",
    "df"
   ]
  },
  {
   "cell_type": "code",
   "execution_count": 1,
   "id": "bbee928d",
   "metadata": {},
   "outputs": [],
   "source": [
    "total_wiki_pages = 61716714"
   ]
  },
  {
   "cell_type": "code",
   "execution_count": 4,
   "id": "96c0db1d",
   "metadata": {},
   "outputs": [],
   "source": [
    "valid_degrees = df[df['degrees'] != -1]['degrees']\n",
    "median_degree = valid_degrees.median()\n",
    "degree_distribution = valid_degrees.value_counts().sort_index()\n",
    "\n",
    "degree_6_count = len(df[df['degrees'] == 6])\n",
    "degree_6_percentage = (degree_6_count / len(df)) * 100\n",
    "\n",
    "estimated_degree_6_total = int((degree_6_percentage / 100) * total_wiki_pages)"
   ]
  },
  {
   "cell_type": "code",
   "execution_count": 15,
   "id": "8434bfe7",
   "metadata": {},
   "outputs": [
    {
     "data": {
      "image/png": "[encoded data removed]",
      "text/plain": [
       "<Figure size 1200x600 with 1 Axes>"
      ]
     },
     "metadata": {},
     "output_type": "display_data"
    }
   ],
   "source": [
    "plt.figure(figsize=(12, 6))\n",
    "plt.hist(degree_distribution.index)\n",
    "plt.title(\"Distribution of Wikipedia Page Degrees\")\n",
    "plt.xlabel(\"Degrees of Separation\")\n",
    "plt.ylabel(\"Number of Pages\")\n",
    "plt.show()"
   ]
  },
  {
   "cell_type": "code",
   "execution_count": 16,
   "id": "be1ad328",
   "metadata": {},
   "outputs": [
    {
     "name": "stdout",
     "output_type": "stream",
     "text": [
      "\n",
      "Median degree of separation: 15.5\n",
      "\n",
      "Degree distribution:\n",
      "9     1\n",
      "10    1\n",
      "12    1\n",
      "13    1\n",
      "14    2\n",
      "17    1\n",
      "18    2\n",
      "22    1\n",
      "26    1\n",
      "27    1\n",
      "Name: degrees, dtype: int64\n",
      "\n",
      "Pages with degree 6 in sample: 0 (0.00%)\n",
      "Estimated total Wikipedia pages with degree 6: 0\n"
     ]
    }
   ],
   "source": [
    "print(f\"\\nMedian degree of separation: {median_degree}\")\n",
    "print(f\"\\nDegree distribution:\")\n",
    "print(degree_distribution)\n",
    "print(f\"\\nPages with degree 6 in sample: {degree_6_count} ({degree_6_percentage:.2f}%)\")\n",
    "print(f\"Estimated total Wikipedia pages with degree 6: {estimated_degree_6_total:,}\")"
   ]
  },
  {
   "cell_type": "markdown",
   "id": "8d625164",
   "metadata": {},
   "source": [
    "## Cebuano Wikipedia"
   ]
  },
  {
   "cell_type": "code",
   "execution_count": 9,
   "id": "05f0fe42",
   "metadata": {},
   "outputs": [
    {
     "name": "stdout",
     "output_type": "stream",
     "text": [
      "Loop detected!\n"
     ]
    },
    {
     "data": {
      "text/plain": [
       "('Chabet Kedour el Turki - Wikipedia', -1)"
      ]
     },
     "execution_count": 9,
     "metadata": {},
     "output_type": "execute_result"
    }
   ],
   "source": [
    "results = find_philosophy(start_url=\"https://ceb.wikipedia.org/wiki/Special:Random\")\n",
    "results"
   ]
  },
  {
   "cell_type": "code",
   "execution_count": null,
   "id": "27e0851a",
   "metadata": {},
   "outputs": [],
   "source": []
  }
 ],
 "metadata": {
  "kernelspec": {
   "display_name": "base",
   "language": "python",
   "name": "python3"
  },
  "language_info": {
   "codemirror_mode": {
    "name": "ipython",
    "version": 3
   },
   "file_extension": ".py",
   "mimetype": "text/x-python",
   "name": "python",
   "nbconvert_exporter": "python",
   "pygments_lexer": "ipython3",
   "version": "3.10.9"
  }
 },
 "nbformat": 4,
 "nbformat_minor": 5
}
