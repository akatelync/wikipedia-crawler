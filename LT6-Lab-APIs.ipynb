{
 "cells": [
  {
   "cell_type": "markdown",
   "id": "cb0eeecc",
   "metadata": {},
   "source": [
    "# Background \n",
    "\n",
    "    Starting from any random Wikipedia page, following the first* page link of the current page will eventually lead you to the \"Philosophy\" page of Wikipedia (~95% of the time).\n",
    "     \n",
    "    * Due to the structure of Wikipedia articles, the first valid link must NOT:\n",
    "        \n",
    "        be in either parentheses (usually language pages) or italics (usually disambiguations)\n",
    "        \n",
    "        be a link to either a meta page, a page outside Wikipedia, or a broken link\n",
    "        \n",
    "        be an in-page citation\n",
    "        \n",
    "        \n",
    "        "
   ]
  },
  {
   "cell_type": "markdown",
   "id": "4852f5e4",
   "metadata": {},
   "source": [
    "## Basic Goal\n",
    "\n",
    "    Make a webcrawler that starts from a random Wikipedia page, and follows the first page link until it either finds the Philosophy page, a page with no links, or loops back to a previously visited link.\n",
    "    \n",
    "    Return the name of the starting page, and the degrees of separation from the Philosophy page (set degree to -1 if terminates otherwise)\n",
    "\n",
    "        Ex. the page \"Kevin Bacon\" should have a degree of separation of 12\n",
    "        \n",
    "    NOTE: For crawling, use either the Wikipedia API or \n",
    "    \n",
    "    \n",
    "    You can start from a random Wikipedia page with a URL (https://en.wikipedia.org/wiki/Special:Random)   \n",
    "    \n",
    "   "
   ]
  },
  {
   "cell_type": "markdown",
   "id": "dbc553ec",
   "metadata": {},
   "source": [
    "## Tips\n",
    "\n",
    " \n",
    "        \n",
    "    Use a while-loop for the crawling, but add a maximum search number if you're still debugging it\n",
    "    \n",
    "    When searching for links, you're always looking at the main text of the page (use the HTML structure)\n",
    "        \n",
    "        \n",
    "        \n",
    "        "
   ]
  },
  {
   "cell_type": "markdown",
   "id": "d98ab187",
   "metadata": {},
   "source": [
    "## Advanced Goals\n",
    "\n",
    "    1.) Get the degrees of separation for 1000 random pages. Find the median degree of separation as well as the distribution.\n",
    "    \n",
    "    2.) Considering your results, and the size of the English Wikipedia, estimate how many pages there are of degree 6.\n",
    "    \n",
    "    3.) Try the Cebuano Wikipedia. Following the same rules above, determine the network structure. \n",
    "    Is there is a page that all others tend to lead back to? \n",
    "    Does it tend to loop more? \n",
    "    In any case, are the degrees generally shorter/longer?\n",
    "        "
   ]
  },
  {
   "cell_type": "code",
   "execution_count": 1,
   "id": "01c9d976",
   "metadata": {},
   "outputs": [],
   "source": [
    "import ast\n",
    "import time\n",
    "import pandas as pd\n",
    "import seaborn as sns\n",
    "import matplotlib.pyplot as plt\n",
    "\n",
    "from typing import Tuple, List\n",
    "from selenium import webdriver\n",
    "from selenium.webdriver.common.by import By\n",
    "from selenium.common.exceptions import NoSuchElementException"
   ]
  },
  {
   "cell_type": "markdown",
   "id": "a88e91c6",
   "metadata": {},
   "source": [
    "# Wikipedia Crawler"
   ]
  },
  {
   "cell_type": "markdown",
   "id": "6f82bd1f",
   "metadata": {},
   "source": [
    "## Implementation for Single Link"
   ]
  },
  {
   "cell_type": "code",
   "execution_count": 2,
   "id": "30b23310",
   "metadata": {},
   "outputs": [],
   "source": [
    "def find_philosophy(\n",
    "        start_url: str = \"https://en.wikipedia.org/wiki/Special:Random\",\n",
    "        target_url: str = \"https://en.wikipedia.org/wiki/Philosophy\",\n",
    ") -> Tuple[str, str, int, int]:\n",
    "    \n",
    "\tnext_url = start_url\n",
    "\tlast_url = next_url\n",
    "\tvisited_urls = set()\n",
    "\tdegrees = 0\n",
    "\thref_count = 0 \n",
    "\t\n",
    "\ttry:\n",
    "\t\toptions = webdriver.ChromeOptions()\n",
    "\t\toptions.add_argument(\"--headless\")\n",
    "\t\tpath = \"/usr/local/bin/chromedriver\"\n",
    "\t\tchrome_service = webdriver.ChromeService(executable_path=path)\n",
    "\t\tdriver = webdriver.Chrome(service=chrome_service, options=options)\n",
    "\t\tdriver.get(start_url)\n",
    "\t\tstarting_title = driver.title\n",
    "\t\t\n",
    "\t\twhile True:\n",
    "\t\t\tif next_url in visited_urls:\n",
    "\t\t\t\tdegrees = -1\n",
    "\t\t\t\tlast_url = next_url\n",
    "\t\t\t\tprint(\"Loop detected!\")\n",
    "\t\t\t\tbreak\n",
    "\t\t\tif next_url == target_url:\n",
    "\t\t\t\tprint(\"Philosophy has been reached!\")\n",
    "\t\t\t\tbreak\n",
    "\t\t\tvisited_urls.add(next_url)\n",
    "\t\t\tdriver.get(next_url)\n",
    "\t\t\ttry:\n",
    "\t\t\t\tmain_content = driver.find_element(\"id\", \"mw-content-text\")\n",
    "\t\t\t\tlinks = main_content.find_elements(By.CSS_SELECTOR, \"div.mw-parser-output > p a\")\n",
    "\t\t\t\tfound_valid_link = False\n",
    "\t\t\t\tfor link in links[:5]:\n",
    "\t\t\t\t\thref = link.get_attribute(\"href\")\n",
    "\t\t\t\t\tif (\n",
    "\t\t\t\t\t\thref and \"/wiki\" in href and\n",
    "\t\t\t\t\t\t\":\" not in href.split(\"/wiki/\")[-1] and\n",
    "\t\t\t\t\t\t\"cite_note\" not in href\n",
    "\t\t\t\t\t):\n",
    "\t\t\t\t\t\tnext_url = href\n",
    "\t\t\t\t\t\tfound_valid_link = True\n",
    "\t\t\t\t\t\tdegrees += 1\n",
    "\t\t\t\t\t\thref_count += 1\n",
    "\t\t\t\t\t\tbreak\n",
    "\t\t\t\tif not found_valid_link:\n",
    "\t\t\t\t\tdegrees = -2\n",
    "\t\t\t\t\tprint(\"Invalid link!\")\n",
    "\t\t\t\t\tbreak\n",
    "\t\t\texcept NoSuchElementException:\n",
    "\t\t\t\tdegrees = -3\n",
    "\t\t\t\tbreak\n",
    "\t\t\ttime.sleep(0.5)\n",
    "\tfinally:\n",
    "\t\tdriver.quit()\n",
    "\treturn (starting_title, last_url, degrees, href_count)"
   ]
  },
  {
   "cell_type": "code",
   "execution_count": 3,
   "id": "54536c1f",
   "metadata": {},
   "outputs": [
    {
     "name": "stdout",
     "output_type": "stream",
     "text": [
      "Philosophy has been reached!\n"
     ]
    },
    {
     "data": {
      "text/plain": [
       "('Jesu, meines Glaubens Zier - Wikipedia',\n",
       " 'https://en.wikipedia.org/wiki/Special:Random',\n",
       " 16,\n",
       " 16)"
      ]
     },
     "execution_count": 3,
     "metadata": {},
     "output_type": "execute_result"
    }
   ],
   "source": [
    "results = find_philosophy(start_url=\"https://en.wikipedia.org/wiki/Special:Random\")\n",
    "results"
   ]
  },
  {
   "cell_type": "markdown",
   "id": "8a43adfb",
   "metadata": {},
   "source": [
    "## Implementation for 1000 Pages\n",
    "- Concurrent implementation is in `scraping_en_wiki_parallel.py`"
   ]
  },
  {
   "cell_type": "code",
   "execution_count": 9,
   "id": "28cb1b46",
   "metadata": {},
   "outputs": [
    {
     "name": "stdout",
     "output_type": "stream",
     "text": [
      "Processing page 0/1000...\n",
      "Philosophy has been reached!\n",
      "Philosophy has been reached!\n"
     ]
    }
   ],
   "source": [
    "results = []\n",
    "\n",
    "for i in range(2):\n",
    "    if i % 10 == 0:\n",
    "        print(f\"Processing page {i}/1000...\")\n",
    "    result = find_philosophy()\n",
    "    results.append(result)"
   ]
  },
  {
   "cell_type": "code",
   "execution_count": 10,
   "id": "98b86843",
   "metadata": {},
   "outputs": [
    {
     "data": {
      "text/plain": [
       "[('Huichahue River - Wikipedia',\n",
       "  'https://en.wikipedia.org/wiki/Special:Random',\n",
       "  16,\n",
       "  16),\n",
       " ('Frea albovittata - Wikipedia',\n",
       "  'https://en.wikipedia.org/wiki/Special:Random',\n",
       "  15,\n",
       "  15)]"
      ]
     },
     "execution_count": 10,
     "metadata": {},
     "output_type": "execute_result"
    }
   ],
   "source": [
    "results"
   ]
  },
  {
   "cell_type": "code",
   "execution_count": 11,
   "id": "e3c6cc8f",
   "metadata": {},
   "outputs": [
    {
     "data": {
      "text/html": [
       "<div>\n",
       "<style scoped>\n",
       "    .dataframe tbody tr th:only-of-type {\n",
       "        vertical-align: middle;\n",
       "    }\n",
       "\n",
       "    .dataframe tbody tr th {\n",
       "        vertical-align: top;\n",
       "    }\n",
       "\n",
       "    .dataframe thead th {\n",
       "        text-align: right;\n",
       "    }\n",
       "</style>\n",
       "<table border=\"1\" class=\"dataframe\">\n",
       "  <thead>\n",
       "    <tr style=\"text-align: right;\">\n",
       "      <th></th>\n",
       "      <th>starting_url</th>\n",
       "      <th>link_tree</th>\n",
       "      <th>degrees</th>\n",
       "      <th>href_count</th>\n",
       "    </tr>\n",
       "  </thead>\n",
       "  <tbody>\n",
       "    <tr>\n",
       "      <th>0</th>\n",
       "      <td>Huichahue River - Wikipedia</td>\n",
       "      <td>https://en.wikipedia.org/wiki/Special:Random</td>\n",
       "      <td>16</td>\n",
       "      <td>16</td>\n",
       "    </tr>\n",
       "    <tr>\n",
       "      <th>1</th>\n",
       "      <td>Frea albovittata - Wikipedia</td>\n",
       "      <td>https://en.wikipedia.org/wiki/Special:Random</td>\n",
       "      <td>15</td>\n",
       "      <td>15</td>\n",
       "    </tr>\n",
       "  </tbody>\n",
       "</table>\n",
       "</div>"
      ],
      "text/plain": [
       "                   starting_url                                     link_tree  \\\n",
       "0   Huichahue River - Wikipedia  https://en.wikipedia.org/wiki/Special:Random   \n",
       "1  Frea albovittata - Wikipedia  https://en.wikipedia.org/wiki/Special:Random   \n",
       "\n",
       "   degrees  href_count  \n",
       "0       16          16  \n",
       "1       15          15  "
      ]
     },
     "execution_count": 11,
     "metadata": {},
     "output_type": "execute_result"
    }
   ],
   "source": [
    "pd.DataFrame(results, columns=[\"starting_url\", \"link_tree\", \"degrees\", \"href_count\"])"
   ]
  },
  {
   "cell_type": "markdown",
   "id": "a12e1cbc",
   "metadata": {},
   "source": [
    "# Analysis of Network Structure"
   ]
  },
  {
   "cell_type": "code",
   "execution_count": 12,
   "id": "db20dd29",
   "metadata": {},
   "outputs": [
    {
     "data": {
      "text/html": [
       "<div>\n",
       "<style scoped>\n",
       "    .dataframe tbody tr th:only-of-type {\n",
       "        vertical-align: middle;\n",
       "    }\n",
       "\n",
       "    .dataframe tbody tr th {\n",
       "        vertical-align: top;\n",
       "    }\n",
       "\n",
       "    .dataframe thead th {\n",
       "        text-align: right;\n",
       "    }\n",
       "</style>\n",
       "<table border=\"1\" class=\"dataframe\">\n",
       "  <thead>\n",
       "    <tr style=\"text-align: right;\">\n",
       "      <th></th>\n",
       "      <th>starting_url</th>\n",
       "      <th>link_tree</th>\n",
       "      <th>degrees</th>\n",
       "      <th>href_count</th>\n",
       "      <th>language</th>\n",
       "    </tr>\n",
       "  </thead>\n",
       "  <tbody>\n",
       "    <tr>\n",
       "      <th>0</th>\n",
       "      <td>2018–19 EBU Player of the Year Championship - ...</td>\n",
       "      <td>[[]]</td>\n",
       "      <td>-2</td>\n",
       "      <td>0</td>\n",
       "      <td>English</td>\n",
       "    </tr>\n",
       "    <tr>\n",
       "      <th>1</th>\n",
       "      <td>Reza Zuhro - Wikipedia</td>\n",
       "      <td>[['https://en.wikipedia.org/wiki/Civil_parishe...</td>\n",
       "      <td>-2</td>\n",
       "      <td>3</td>\n",
       "      <td>English</td>\n",
       "    </tr>\n",
       "    <tr>\n",
       "      <th>2</th>\n",
       "      <td>Nanzih Technology Industrial Park metro statio...</td>\n",
       "      <td>[['https://en.wikipedia.org/wiki/New_Testament...</td>\n",
       "      <td>-1</td>\n",
       "      <td>6</td>\n",
       "      <td>English</td>\n",
       "    </tr>\n",
       "    <tr>\n",
       "      <th>3</th>\n",
       "      <td>Jake Duncombe - Wikipedia</td>\n",
       "      <td>[['https://en.wikipedia.org/wiki/Tiffany_Darwi...</td>\n",
       "      <td>13</td>\n",
       "      <td>13</td>\n",
       "      <td>English</td>\n",
       "    </tr>\n",
       "    <tr>\n",
       "      <th>4</th>\n",
       "      <td>Drew Von Bergen - Wikipedia</td>\n",
       "      <td>[['https://en.wikipedia.org/wiki/Sports_games'...</td>\n",
       "      <td>12</td>\n",
       "      <td>12</td>\n",
       "      <td>English</td>\n",
       "    </tr>\n",
       "  </tbody>\n",
       "</table>\n",
       "</div>"
      ],
      "text/plain": [
       "                                        starting_url  \\\n",
       "0  2018–19 EBU Player of the Year Championship - ...   \n",
       "1                             Reza Zuhro - Wikipedia   \n",
       "2  Nanzih Technology Industrial Park metro statio...   \n",
       "3                          Jake Duncombe - Wikipedia   \n",
       "4                        Drew Von Bergen - Wikipedia   \n",
       "\n",
       "                                           link_tree  degrees  href_count  \\\n",
       "0                                               [[]]       -2           0   \n",
       "1  [['https://en.wikipedia.org/wiki/Civil_parishe...       -2           3   \n",
       "2  [['https://en.wikipedia.org/wiki/New_Testament...       -1           6   \n",
       "3  [['https://en.wikipedia.org/wiki/Tiffany_Darwi...       13          13   \n",
       "4  [['https://en.wikipedia.org/wiki/Sports_games'...       12          12   \n",
       "\n",
       "  language  \n",
       "0  English  \n",
       "1  English  \n",
       "2  English  \n",
       "3  English  \n",
       "4  English  "
      ]
     },
     "execution_count": 12,
     "metadata": {},
     "output_type": "execute_result"
    }
   ],
   "source": [
    "df_en = pd.read_csv(\"en_philosophy_results_20241028-224524.csv\")\n",
    "df_en[\"language\"] = \"English\"\n",
    "\n",
    "df_ceb = pd.read_csv(\"ceb_philosophy_results_20241028-233602.csv\")\n",
    "df_ceb[\"language\"] = \"Cebuano\"\n",
    "\n",
    "df = pd.concat([df_en, df_ceb]).reset_index().drop(\"index\", axis=1)\n",
    "df.head()"
   ]
  },
  {
   "cell_type": "code",
   "execution_count": 13,
   "id": "1ddf6676",
   "metadata": {},
   "outputs": [
    {
     "data": {
      "text/html": [
       "<div>\n",
       "<style scoped>\n",
       "    .dataframe tbody tr th:only-of-type {\n",
       "        vertical-align: middle;\n",
       "    }\n",
       "\n",
       "    .dataframe tbody tr th {\n",
       "        vertical-align: top;\n",
       "    }\n",
       "\n",
       "    .dataframe thead th {\n",
       "        text-align: right;\n",
       "    }\n",
       "</style>\n",
       "<table border=\"1\" class=\"dataframe\">\n",
       "  <thead>\n",
       "    <tr style=\"text-align: right;\">\n",
       "      <th></th>\n",
       "      <th>starting_url</th>\n",
       "      <th>link_tree</th>\n",
       "      <th>degrees</th>\n",
       "      <th>href_count</th>\n",
       "      <th>language</th>\n",
       "      <th>termination_reason</th>\n",
       "      <th>terminal_link</th>\n",
       "    </tr>\n",
       "  </thead>\n",
       "  <tbody>\n",
       "    <tr>\n",
       "      <th>0</th>\n",
       "      <td>2018–19 EBU Player of the Year Championship - ...</td>\n",
       "      <td>[[]]</td>\n",
       "      <td>-2</td>\n",
       "      <td>0</td>\n",
       "      <td>English</td>\n",
       "      <td>invalid_link</td>\n",
       "      <td></td>\n",
       "    </tr>\n",
       "    <tr>\n",
       "      <th>1</th>\n",
       "      <td>Reza Zuhro - Wikipedia</td>\n",
       "      <td>[['https://en.wikipedia.org/wiki/Civil_parishe...</td>\n",
       "      <td>-2</td>\n",
       "      <td>3</td>\n",
       "      <td>English</td>\n",
       "      <td>invalid_link</td>\n",
       "      <td></td>\n",
       "    </tr>\n",
       "    <tr>\n",
       "      <th>2</th>\n",
       "      <td>Nanzih Technology Industrial Park metro statio...</td>\n",
       "      <td>[['https://en.wikipedia.org/wiki/New_Testament...</td>\n",
       "      <td>-1</td>\n",
       "      <td>6</td>\n",
       "      <td>English</td>\n",
       "      <td>loop</td>\n",
       "      <td>https://en.wikipedia.org/wiki/Hebrew_language</td>\n",
       "    </tr>\n",
       "    <tr>\n",
       "      <th>3</th>\n",
       "      <td>Jake Duncombe - Wikipedia</td>\n",
       "      <td>[['https://en.wikipedia.org/wiki/Tiffany_Darwi...</td>\n",
       "      <td>13</td>\n",
       "      <td>13</td>\n",
       "      <td>English</td>\n",
       "      <td>reached_philosophy</td>\n",
       "      <td>https://en.wikipedia.org/wiki/Philosophy</td>\n",
       "    </tr>\n",
       "    <tr>\n",
       "      <th>4</th>\n",
       "      <td>Drew Von Bergen - Wikipedia</td>\n",
       "      <td>[['https://en.wikipedia.org/wiki/Sports_games'...</td>\n",
       "      <td>12</td>\n",
       "      <td>12</td>\n",
       "      <td>English</td>\n",
       "      <td>reached_philosophy</td>\n",
       "      <td>https://en.wikipedia.org/wiki/Philosophy</td>\n",
       "    </tr>\n",
       "    <tr>\n",
       "      <th>...</th>\n",
       "      <td>...</td>\n",
       "      <td>...</td>\n",
       "      <td>...</td>\n",
       "      <td>...</td>\n",
       "      <td>...</td>\n",
       "      <td>...</td>\n",
       "      <td>...</td>\n",
       "    </tr>\n",
       "    <tr>\n",
       "      <th>1995</th>\n",
       "      <td>Kūh-e Āb Malakhī - Wikipedia</td>\n",
       "      <td>[['https://ceb.wikipedia.org/wiki/Tinipong_Ban...</td>\n",
       "      <td>-1</td>\n",
       "      <td>6</td>\n",
       "      <td>Cebuano</td>\n",
       "      <td>loop</td>\n",
       "      <td>https://ceb.wikipedia.org/wiki/Inglatera</td>\n",
       "    </tr>\n",
       "    <tr>\n",
       "      <th>1996</th>\n",
       "      <td>Lycaena venus - Wikipedia</td>\n",
       "      <td>[['https://ceb.wikipedia.org/wiki/Lungsod'], [...</td>\n",
       "      <td>-1</td>\n",
       "      <td>6</td>\n",
       "      <td>Cebuano</td>\n",
       "      <td>loop</td>\n",
       "      <td>https://ceb.wikipedia.org/wiki/Kinatsila</td>\n",
       "    </tr>\n",
       "    <tr>\n",
       "      <th>1997</th>\n",
       "      <td>Navedalen - Wikipedia</td>\n",
       "      <td>[['https://ceb.wikipedia.org/wiki/Insekto'], [...</td>\n",
       "      <td>-1</td>\n",
       "      <td>18</td>\n",
       "      <td>Cebuano</td>\n",
       "      <td>loop</td>\n",
       "      <td>https://ceb.wikipedia.org/wiki/Pransiya</td>\n",
       "    </tr>\n",
       "    <tr>\n",
       "      <th>1998</th>\n",
       "      <td>Donald King 1 Dam - Wikipedia</td>\n",
       "      <td>[['https://ceb.wikipedia.org/wiki/Dawhilahila'...</td>\n",
       "      <td>-1</td>\n",
       "      <td>18</td>\n",
       "      <td>Cebuano</td>\n",
       "      <td>loop</td>\n",
       "      <td>https://ceb.wikipedia.org/wiki/Pransiya</td>\n",
       "    </tr>\n",
       "    <tr>\n",
       "      <th>1999</th>\n",
       "      <td>Pleopeltis riograndensis - Wikipedia</td>\n",
       "      <td>[['https://ceb.wikipedia.org/wiki/Sipit'], ['h...</td>\n",
       "      <td>-1</td>\n",
       "      <td>18</td>\n",
       "      <td>Cebuano</td>\n",
       "      <td>loop</td>\n",
       "      <td>https://ceb.wikipedia.org/wiki/Pransiya</td>\n",
       "    </tr>\n",
       "  </tbody>\n",
       "</table>\n",
       "<p>2000 rows × 7 columns</p>\n",
       "</div>"
      ],
      "text/plain": [
       "                                           starting_url  \\\n",
       "0     2018–19 EBU Player of the Year Championship - ...   \n",
       "1                                Reza Zuhro - Wikipedia   \n",
       "2     Nanzih Technology Industrial Park metro statio...   \n",
       "3                             Jake Duncombe - Wikipedia   \n",
       "4                           Drew Von Bergen - Wikipedia   \n",
       "...                                                 ...   \n",
       "1995                       Kūh-e Āb Malakhī - Wikipedia   \n",
       "1996                          Lycaena venus - Wikipedia   \n",
       "1997                              Navedalen - Wikipedia   \n",
       "1998                      Donald King 1 Dam - Wikipedia   \n",
       "1999               Pleopeltis riograndensis - Wikipedia   \n",
       "\n",
       "                                              link_tree  degrees  href_count  \\\n",
       "0                                                  [[]]       -2           0   \n",
       "1     [['https://en.wikipedia.org/wiki/Civil_parishe...       -2           3   \n",
       "2     [['https://en.wikipedia.org/wiki/New_Testament...       -1           6   \n",
       "3     [['https://en.wikipedia.org/wiki/Tiffany_Darwi...       13          13   \n",
       "4     [['https://en.wikipedia.org/wiki/Sports_games'...       12          12   \n",
       "...                                                 ...      ...         ...   \n",
       "1995  [['https://ceb.wikipedia.org/wiki/Tinipong_Ban...       -1           6   \n",
       "1996  [['https://ceb.wikipedia.org/wiki/Lungsod'], [...       -1           6   \n",
       "1997  [['https://ceb.wikipedia.org/wiki/Insekto'], [...       -1          18   \n",
       "1998  [['https://ceb.wikipedia.org/wiki/Dawhilahila'...       -1          18   \n",
       "1999  [['https://ceb.wikipedia.org/wiki/Sipit'], ['h...       -1          18   \n",
       "\n",
       "     language  termination_reason  \\\n",
       "0     English        invalid_link   \n",
       "1     English        invalid_link   \n",
       "2     English                loop   \n",
       "3     English  reached_philosophy   \n",
       "4     English  reached_philosophy   \n",
       "...       ...                 ...   \n",
       "1995  Cebuano                loop   \n",
       "1996  Cebuano                loop   \n",
       "1997  Cebuano                loop   \n",
       "1998  Cebuano                loop   \n",
       "1999  Cebuano                loop   \n",
       "\n",
       "                                      terminal_link  \n",
       "0                                                    \n",
       "1                                                    \n",
       "2     https://en.wikipedia.org/wiki/Hebrew_language  \n",
       "3          https://en.wikipedia.org/wiki/Philosophy  \n",
       "4          https://en.wikipedia.org/wiki/Philosophy  \n",
       "...                                             ...  \n",
       "1995       https://ceb.wikipedia.org/wiki/Inglatera  \n",
       "1996       https://ceb.wikipedia.org/wiki/Kinatsila  \n",
       "1997        https://ceb.wikipedia.org/wiki/Pransiya  \n",
       "1998        https://ceb.wikipedia.org/wiki/Pransiya  \n",
       "1999        https://ceb.wikipedia.org/wiki/Pransiya  \n",
       "\n",
       "[2000 rows x 7 columns]"
      ]
     },
     "execution_count": 13,
     "metadata": {},
     "output_type": "execute_result"
    }
   ],
   "source": [
    "termination_dict = {\n",
    "    -1: \"loop\",\n",
    "    -2: \"invalid_link\",\n",
    "    -3: \"no_element\"\n",
    "}\n",
    "\n",
    "df[\"termination_reason\"] = df[\"degrees\"].map(termination_dict).fillna(\"reached_philosophy\")\n",
    "df[\"terminal_link\"] = df[\"link_tree\"].apply(ast.literal_eval).str[-1].apply(lambda x: str(x).strip(\"[]|''\"))\n",
    "df"
   ]
  },
  {
   "cell_type": "markdown",
   "id": "914d4640",
   "metadata": {},
   "source": [
    "## English Wikipedia"
   ]
  },
  {
   "cell_type": "code",
   "execution_count": 14,
   "id": "1a9e51a3",
   "metadata": {},
   "outputs": [],
   "source": [
    "total_wiki_pages = 6902357 # according to Wikipedia\n",
    "\n",
    "cond = ((~df[\"degrees\"].isin(list(termination_dict.keys()))) & (df[\"language\"]==\"English\"))\n",
    "en_valid_degrees = df[cond][\"degrees\"]\n",
    "en_median_degree = en_valid_degrees.median()\n",
    "en_degree_distribution = en_valid_degrees.value_counts().sort_index()\n",
    "\n",
    "cond = ((df[\"degrees\"]==6) & (df[\"language\"]==\"English\"))\n",
    "en_degree_6_count = len(df[cond])\n",
    "\n",
    "cond = (df[\"language\"]==\"English\")\n",
    "en_degree_6_percentage = (en_degree_6_count / len(df[cond])) * 100\n",
    "\n",
    "en_estimated_degree_6_total = int((en_degree_6_percentage / 100) * total_wiki_pages)"
   ]
  },
  {
   "cell_type": "code",
   "execution_count": 15,
   "id": "8434bfe7",
   "metadata": {},
   "outputs": [
    {
     "data": {
      "image/png": "[encoded data removed]",
      "text/plain": [
       "<Figure size 1200x600 with 1 Axes>"
      ]
     },
     "metadata": {},
     "output_type": "display_data"
    }
   ],
   "source": [
    "plt.figure(figsize=(12, 6))\n",
    "plt.bar(en_degree_distribution.index, en_degree_distribution.values)\n",
    "plt.title(\"Distribution of Degree of Separation Between Random Page to Philosophy Page [English Wiki]\")\n",
    "plt.xlabel(\"Degree of Separation\")\n",
    "plt.ylabel(\"No. of Pages\")\n",
    "plt.show()"
   ]
  },
  {
   "cell_type": "code",
   "execution_count": 16,
   "id": "be1ad328",
   "metadata": {},
   "outputs": [
    {
     "name": "stdout",
     "output_type": "stream",
     "text": [
      "Median degree of separation: 18.0\n",
      "\n",
      "Pages with degree 6 in sample: 4 (0.40%)\n",
      "\n",
      "Estimated total Wikipedia pages with degree 6: 27,609\n"
     ]
    }
   ],
   "source": [
    "print(f\"Median degree of separation: {en_median_degree}\")\n",
    "print(f\"\\nPages with degree 6 in sample: {en_degree_6_count} ({en_degree_6_percentage:.2f}%)\")\n",
    "print(f\"\\nEstimated total Wikipedia pages with degree 6: {en_estimated_degree_6_total:,}\")"
   ]
  },
  {
   "cell_type": "code",
   "execution_count": 17,
   "id": "53a0e07b",
   "metadata": {},
   "outputs": [
    {
     "data": {
      "image/png": "[encoded data removed]",
      "text/plain": [
       "<Figure size 1000x600 with 1 Axes>"
      ]
     },
     "metadata": {},
     "output_type": "display_data"
    }
   ],
   "source": [
    "termination_df = df[cond][\"termination_reason\"].value_counts().sort_values()\n",
    "total = termination_df.sum()\n",
    "\n",
    "sns_orange = sns.color_palette()[1]\n",
    "\n",
    "plt.figure(figsize=(10, 6))\n",
    "colors = ['#1f77b4' if x != \"reached_philosophy\" else sns_orange for x in termination_df.index]\n",
    "bars = plt.bar(termination_df.index, termination_df.values, color=colors)\n",
    "\n",
    "for bar in bars:\n",
    "    height = bar.get_height()\n",
    "    percentage = (height/total) * 100\n",
    "    plt.text(bar.get_x() + bar.get_width()/2, height, f\"{percentage:.1f}%\", ha=\"center\", va=\"bottom\")\n",
    "\n",
    "plt.title(\"Count by Termination Reason [English Wiki]\")\n",
    "plt.xlabel(\"Termination Reason\")\n",
    "plt.ylabel(\"Count\")\n",
    "plt.show()"
   ]
  },
  {
   "cell_type": "markdown",
   "id": "9626003a",
   "metadata": {},
   "source": [
    "## Cebuano Wikipedia"
   ]
  },
  {
   "cell_type": "code",
   "execution_count": 18,
   "id": "c64ceb4f",
   "metadata": {},
   "outputs": [
    {
     "data": {
      "image/png": "[encoded data removed]",
      "text/plain": [
       "<Figure size 1200x600 with 1 Axes>"
      ]
     },
     "metadata": {},
     "output_type": "display_data"
    }
   ],
   "source": [
    "cond = (df[\"language\"]==\"Cebuano\")\n",
    "ceb_valid_degrees = df[cond][\"href_count\"]\n",
    "ceb_median_degree = ceb_valid_degrees.median()\n",
    "ceb_degree_distribution = ceb_valid_degrees.value_counts().sort_index()\n",
    "\n",
    "plt.figure(figsize=(12, 6))\n",
    "plt.bar(ceb_degree_distribution.index, ceb_degree_distribution.values)\n",
    "plt.title(\"Distribution of No. of Links Before Termination [Cebuano Wiki]\")\n",
    "plt.xlabel(\"No. of Links Before Termination\")\n",
    "plt.ylabel(\"No. of Pages\")\n",
    "plt.show()"
   ]
  },
  {
   "cell_type": "code",
   "execution_count": 19,
   "id": "42c70e11",
   "metadata": {},
   "outputs": [],
   "source": [
    "ceb_top_loop = df[cond][\"terminal_link\"].value_counts().index[0]\n",
    "ceb_avg_degree_distribution = df[\"href_count\"].mean()\n",
    "ceb_median_degree_distribution = df[\"href_count\"].median()"
   ]
  },
  {
   "cell_type": "code",
   "execution_count": 20,
   "id": "545e5082",
   "metadata": {},
   "outputs": [
    {
     "name": "stdout",
     "output_type": "stream",
     "text": [
      "Top page where others lead back to: https://ceb.wikipedia.org/wiki/Pransiya\n",
      "\n",
      "Average no. of links before termination: 11.569\n",
      "\n",
      "Median no. of links before termination: 10.0\n"
     ]
    }
   ],
   "source": [
    "print(f\"Top page where others lead back to: {ceb_top_loop}\")\n",
    "print(f\"\\nAverage no. of links before termination: {ceb_avg_degree_distribution}\")\n",
    "print(f\"\\nMedian no. of links before termination: {ceb_median_degree_distribution}\")"
   ]
  },
  {
   "cell_type": "code",
   "execution_count": 21,
   "id": "2a42fbce",
   "metadata": {},
   "outputs": [
    {
     "data": {
      "image/png": "[encoded data removed]",
      "text/plain": [
       "<Figure size 1000x600 with 1 Axes>"
      ]
     },
     "metadata": {},
     "output_type": "display_data"
    }
   ],
   "source": [
    "termination_df = df[cond][\"termination_reason\"].value_counts().sort_values()\n",
    "total = termination_df.sum()\n",
    "\n",
    "plt.figure(figsize=(10, 6))\n",
    "bars = plt.bar(termination_df.index, termination_df.values, color=colors)\n",
    "\n",
    "for bar in bars:\n",
    "    height = bar.get_height()\n",
    "    percentage = (height/total) * 100\n",
    "    plt.text(bar.get_x() + bar.get_width()/2, height, f\"{percentage:.1f}%\", ha=\"center\", va=\"bottom\")\n",
    "plt.title(\"Count by Termination Reason [Cebuano Wiki]\")\n",
    "plt.xlabel(\"Termination Reason\")\n",
    "plt.ylabel(\"Count\")\n",
    "plt.show()"
   ]
  },
  {
   "cell_type": "code",
   "execution_count": 22,
   "id": "db7b9a40",
   "metadata": {},
   "outputs": [
    {
     "data": {
      "image/png": "[encoded data removed]",
      "text/plain": [
       "<Figure size 1000x600 with 1 Axes>"
      ]
     },
     "metadata": {},
     "output_type": "display_data"
    }
   ],
   "source": [
    "terminal_link = df[cond & (df[\"termination_reason\"]==\"loop\")].groupby(\"terminal_link\").starting_url.count().sort_values().tail(5)\n",
    "\n",
    "labels = terminal_link.index.str.split(\"wiki/\").str[1]\n",
    "values = terminal_link.values\n",
    "\n",
    "plt.figure(figsize=(10, 6))\n",
    "colors = [\"#1f77b4\" if x != \"Pransiya\" else sns_orange for x in labels]\n",
    "\n",
    "bars = plt.bar(range(len(values)), values, color=colors)\n",
    "\n",
    "total = values.sum()\n",
    "for bar in bars:\n",
    "   height = bar.get_height()\n",
    "   percentage = (height/total) * 100\n",
    "   plt.text(bar.get_x() + bar.get_width()/2, height,\n",
    "            f\"{percentage:.1f}%\",\n",
    "            ha=\"center\", va=\"bottom\")\n",
    "\n",
    "plt.xticks(range(len(labels)), labels, )\n",
    "plt.title(\"Terminal Links Count Distribution [Cebuano Wiki]\")\n",
    "plt.xlabel(\"Terminal Link\")\n",
    "plt.ylabel(\"Count\")\n",
    "\n",
    "plt.show()"
   ]
  },
  {
   "cell_type": "code",
   "execution_count": null,
   "id": "db9d1a9b",
   "metadata": {},
   "outputs": [],
   "source": []
  }
 ],
 "metadata": {
  "kernelspec": {
   "display_name": "base",
   "language": "python",
   "name": "python3"
  },
  "language_info": {
   "codemirror_mode": {
    "name": "ipython",
    "version": 3
   },
   "file_extension": ".py",
   "mimetype": "text/x-python",
   "name": "python",
   "nbconvert_exporter": "python",
   "pygments_lexer": "ipython3",
   "version": "3.10.9"
  }
 },
 "nbformat": 4,
 "nbformat_minor": 5
}
