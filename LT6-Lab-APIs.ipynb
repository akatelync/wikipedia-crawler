{
 "cells": [
  {
   "cell_type": "markdown",
   "id": "cb0eeecc",
   "metadata": {},
   "source": [
    "# Background \n",
    "\n",
    "    Starting from any random Wikipedia page, following the first* page link of the current page will eventually lead you to the \"Philosophy\" page of Wikipedia (~95% of the time).\n",
    "     \n",
    "    * Due to the structure of Wikipedia articles, the first valid link must NOT:\n",
    "        \n",
    "        be in either parentheses (usually language pages) or italics (usually disambiguations)\n",
    "        \n",
    "        be a link to either a meta page, a page outside Wikipedia, or a broken link\n",
    "        \n",
    "        be an in-page citation\n",
    "        \n",
    "        \n",
    "        "
   ]
  },
  {
   "cell_type": "markdown",
   "id": "4852f5e4",
   "metadata": {},
   "source": [
    "## Basic Goal\n",
    "\n",
    "    Make a webcrawler that starts from a random Wikipedia page, and follows the first page link until it either finds the Philosophy page, a page with no links, or loops back to a previously visited link.\n",
    "    \n",
    "    Return the name of the starting page, and the degrees of separation from the Philosophy page (set degree to -1 if terminates otherwise)\n",
    "\n",
    "        Ex. the page \"Kevin Bacon\" should have a degree of separation of 12\n",
    "        \n",
    "    NOTE: For crawling, use either the Wikipedia API or \n",
    "    \n",
    "    \n",
    "    You can start from a random Wikipedia page with a URL (https://en.wikipedia.org/wiki/Special:Random)   \n",
    "    \n",
    "   "
   ]
  },
  {
   "cell_type": "markdown",
   "id": "dbc553ec",
   "metadata": {},
   "source": [
    "## Tips\n",
    "\n",
    " \n",
    "        \n",
    "    Use a while-loop for the crawling, but add a maximum search number if you're still debugging it\n",
    "    \n",
    "    When searching for links, you're always looking at the main text of the page (use the HTML structure)\n",
    "        \n",
    "        \n",
    "        \n",
    "        "
   ]
  },
  {
   "cell_type": "markdown",
   "id": "d98ab187",
   "metadata": {},
   "source": [
    "## Advanced Goals\n",
    "\n",
    "    1.) Get the degrees of separation for 1000 random pages. Find the median degree of separation as well as the distribution.\n",
    "    \n",
    "    2.) Considering your results, and the size of the English Wikipedia, estimate how many pages there are of degree 6.\n",
    "    \n",
    "    3.) Try the Cebuano Wikipedia. Following the same rules above, determine the network structure. \n",
    "    Is there is a page that all others tend to lead back to? \n",
    "    Does it tend to loop more? \n",
    "    In any case, are the degrees generally shorter/longer?\n",
    "    \n",
    "        "
   ]
  },
  {
   "cell_type": "code",
   "execution_count": 1,
   "id": "01c9d976",
   "metadata": {},
   "outputs": [],
   "source": [
    "import time\n",
    "import pandas as pd\n",
    "import matplotlib.pyplot as plt\n",
    "\n",
    "from typing import Tuple\n",
    "from selenium import webdriver\n",
    "from selenium.webdriver.common.by import By\n",
    "from selenium.common.exceptions import NoSuchElementException"
   ]
  },
  {
   "cell_type": "markdown",
   "id": "a88e91c6",
   "metadata": {},
   "source": [
    "# Wikipedia Crawler"
   ]
  },
  {
   "cell_type": "markdown",
   "id": "6f82bd1f",
   "metadata": {},
   "source": [
    "## Implementation for Single Link"
   ]
  },
  {
   "cell_type": "code",
   "execution_count": 2,
   "id": "30b23310",
   "metadata": {},
   "outputs": [],
   "source": [
    "def find_philosophy(\n",
    "        start_url: str = \"https://en.wikipedia.org/wiki/Special:Random\",\n",
    "        target_url: str = \"https://en.wikipedia.org/wiki/Philosophy\",\n",
    ") -> Tuple[str, int]:\n",
    "    \n",
    "\tnext_url = start_url\n",
    "\tvisited_urls = set()\n",
    "\tdegrees = 0\n",
    "\n",
    "\ttry:\n",
    "\t\toptions = webdriver.ChromeOptions()\n",
    "\t\toptions.add_argument(\"--headless\")\n",
    "\t\tpath = \"/usr/local/bin/chromedriver\"\n",
    "\t\tchrome_service = webdriver.ChromeService(executable_path=path)\n",
    "\t\tdriver = webdriver.Chrome(service=chrome_service, options=options)\n",
    "\t\tdriver.get(start_url)\n",
    "\t\tstarting_title = driver.title\n",
    "\n",
    "\t\twhile True:\n",
    "\t\t\tif next_url in visited_urls:\n",
    "\t\t\t\tdegrees = -1\n",
    "\t\t\t\tprint(\"Loop detected!\")\n",
    "\t\t\t\tbreak\n",
    "\n",
    "\t\t\tif next_url == target_url:\n",
    "\t\t\t\tprint(\"Philosophy has been reached!\")\n",
    "\t\t\t\tbreak\n",
    "\n",
    "\t\t\tvisited_urls.add(next_url)\n",
    "\t\t\tdriver.get(next_url)\n",
    "\n",
    "\t\t\ttry:\n",
    "\t\t\t\tmain_content = driver.find_element(\"id\", \"mw-content-text\")\n",
    "\t\t\t\tlinks = main_content.find_elements(By.CSS_SELECTOR, \"div.mw-parser-output > p a\")\n",
    "\n",
    "\t\t\t\tfound_valid_link = False\n",
    "\n",
    "\t\t\t\tfor link in links[:5]:\n",
    "\t\t\t\t\thref = link.get_attribute(\"href\")\n",
    "\t\t\t\t\tif (\n",
    "\t\t\t\t\t\thref and \"/wiki\" in href and\n",
    "\t\t\t\t\t\t\":\" not in href.split(\"/wiki/\")[-1] and\n",
    "\t\t\t\t\t\t\"cite_note\" not in href\n",
    "\t\t\t\t\t):\n",
    "\t\t\t\t\t\tnext_url = href\n",
    "\t\t\t\t\t\tfound_valid_link = True\n",
    "\t\t\t\t\t\tdegrees +=1\n",
    "\t\t\t\t\t\tbreak\n",
    "\n",
    "\t\t\t\tif not found_valid_link:\n",
    "\t\t\t\t\tdegrees = -1\n",
    "\t\t\t\t\tprint(\"Invalid link!\")\n",
    "\t\t\t\t\tbreak\n",
    "\n",
    "\t\t\texcept NoSuchElementException:\n",
    "\t\t\t\tdegrees = -1\n",
    "\t\t\t\tbreak\n",
    "\n",
    "\t\t\ttime.sleep(0.5)\n",
    "\n",
    "\tfinally:\n",
    "\t\tdriver.quit()\n",
    "\n",
    "\treturn (starting_title, degrees)"
   ]
  },
  {
   "cell_type": "code",
   "execution_count": 3,
   "id": "54536c1f",
   "metadata": {},
   "outputs": [
    {
     "name": "stdout",
     "output_type": "stream",
     "text": [
      "Loop detected!\n"
     ]
    },
    {
     "data": {
      "text/plain": [
       "('Euxesta juncta - Wikipedia', -1)"
      ]
     },
     "execution_count": 3,
     "metadata": {},
     "output_type": "execute_result"
    }
   ],
   "source": [
    "results = find_philosophy(start_url=\"https://ceb.wikipedia.org/wiki/Special:Random\")\n",
    "results"
   ]
  },
  {
   "cell_type": "markdown",
   "id": "8a43adfb",
   "metadata": {},
   "source": [
    "## Implementation for 1000 Pages"
   ]
  },
  {
   "cell_type": "markdown",
   "id": "0de7fedf",
   "metadata": {},
   "source": [
    "### Median degree of separation and distribution"
   ]
  },
  {
   "cell_type": "code",
   "execution_count": 4,
   "id": "28cb1b46",
   "metadata": {},
   "outputs": [
    {
     "name": "stdout",
     "output_type": "stream",
     "text": [
      "Processing page 0/1000...\n",
      "Philosophy has been reached!\n",
      "Invalid link!\n"
     ]
    },
    {
     "data": {
      "text/html": [
       "<div>\n",
       "<style scoped>\n",
       "    .dataframe tbody tr th:only-of-type {\n",
       "        vertical-align: middle;\n",
       "    }\n",
       "\n",
       "    .dataframe tbody tr th {\n",
       "        vertical-align: top;\n",
       "    }\n",
       "\n",
       "    .dataframe thead th {\n",
       "        text-align: right;\n",
       "    }\n",
       "</style>\n",
       "<table border=\"1\" class=\"dataframe\">\n",
       "  <thead>\n",
       "    <tr style=\"text-align: right;\">\n",
       "      <th></th>\n",
       "      <th>first_page</th>\n",
       "      <th>degrees</th>\n",
       "    </tr>\n",
       "  </thead>\n",
       "  <tbody>\n",
       "    <tr>\n",
       "      <th>0</th>\n",
       "      <td>Dendrobium ruckeri - Wikipedia</td>\n",
       "      <td>11</td>\n",
       "    </tr>\n",
       "    <tr>\n",
       "      <th>1</th>\n",
       "      <td>Stephanie Mavunga - Wikipedia</td>\n",
       "      <td>-1</td>\n",
       "    </tr>\n",
       "  </tbody>\n",
       "</table>\n",
       "</div>"
      ],
      "text/plain": [
       "                       first_page  degrees\n",
       "0  Dendrobium ruckeri - Wikipedia       11\n",
       "1   Stephanie Mavunga - Wikipedia       -1"
      ]
     },
     "execution_count": 4,
     "metadata": {},
     "output_type": "execute_result"
    }
   ],
   "source": [
    "pages = {}\n",
    "\n",
    "for i in range(2):\n",
    "    if i % 10 == 0:\n",
    "        print(f\"Processing page {i}/1000...\")\n",
    "    key, value = find_philosophy()\n",
    "    pages[key] = value\n",
    "\n",
    "pd.DataFrame(list(pages.items()), columns=['first_page', 'degrees'])"
   ]
  },
  {
   "cell_type": "code",
   "execution_count": 5,
   "id": "db20dd29",
   "metadata": {},
   "outputs": [
    {
     "data": {
      "text/html": [
       "<div>\n",
       "<style scoped>\n",
       "    .dataframe tbody tr th:only-of-type {\n",
       "        vertical-align: middle;\n",
       "    }\n",
       "\n",
       "    .dataframe tbody tr th {\n",
       "        vertical-align: top;\n",
       "    }\n",
       "\n",
       "    .dataframe thead th {\n",
       "        text-align: right;\n",
       "    }\n",
       "</style>\n",
       "<table border=\"1\" class=\"dataframe\">\n",
       "  <thead>\n",
       "    <tr style=\"text-align: right;\">\n",
       "      <th></th>\n",
       "      <th>first_page</th>\n",
       "      <th>degrees</th>\n",
       "    </tr>\n",
       "  </thead>\n",
       "  <tbody>\n",
       "    <tr>\n",
       "      <th>0</th>\n",
       "      <td>Campbell Township, Polk County, Missouri - Wik...</td>\n",
       "      <td>17</td>\n",
       "    </tr>\n",
       "    <tr>\n",
       "      <th>1</th>\n",
       "      <td>Amanzimtoti bombing - Wikipedia</td>\n",
       "      <td>13</td>\n",
       "    </tr>\n",
       "    <tr>\n",
       "      <th>2</th>\n",
       "      <td>Frank J. Farrell - Wikipedia</td>\n",
       "      <td>-1</td>\n",
       "    </tr>\n",
       "    <tr>\n",
       "      <th>3</th>\n",
       "      <td>Yamajathakudu - Wikipedia</td>\n",
       "      <td>10</td>\n",
       "    </tr>\n",
       "    <tr>\n",
       "      <th>4</th>\n",
       "      <td>NaN</td>\n",
       "      <td>-1</td>\n",
       "    </tr>\n",
       "    <tr>\n",
       "      <th>...</th>\n",
       "      <td>...</td>\n",
       "      <td>...</td>\n",
       "    </tr>\n",
       "    <tr>\n",
       "      <th>932</th>\n",
       "      <td>Hard to Be a God (1989 film) - Wikipedia</td>\n",
       "      <td>7</td>\n",
       "    </tr>\n",
       "    <tr>\n",
       "      <th>933</th>\n",
       "      <td>Mohawk Airlines Flight 411 - Wikipedia</td>\n",
       "      <td>18</td>\n",
       "    </tr>\n",
       "    <tr>\n",
       "      <th>934</th>\n",
       "      <td>Ālambana - Wikipedia</td>\n",
       "      <td>16</td>\n",
       "    </tr>\n",
       "    <tr>\n",
       "      <th>935</th>\n",
       "      <td>Saadi Town - Wikipedia</td>\n",
       "      <td>25</td>\n",
       "    </tr>\n",
       "    <tr>\n",
       "      <th>936</th>\n",
       "      <td>1948 Men's European Volleyball Championship - ...</td>\n",
       "      <td>-1</td>\n",
       "    </tr>\n",
       "  </tbody>\n",
       "</table>\n",
       "<p>937 rows × 2 columns</p>\n",
       "</div>"
      ],
      "text/plain": [
       "                                            first_page  degrees\n",
       "0    Campbell Township, Polk County, Missouri - Wik...       17\n",
       "1                      Amanzimtoti bombing - Wikipedia       13\n",
       "2                         Frank J. Farrell - Wikipedia       -1\n",
       "3                            Yamajathakudu - Wikipedia       10\n",
       "4                                                  NaN       -1\n",
       "..                                                 ...      ...\n",
       "932           Hard to Be a God (1989 film) - Wikipedia        7\n",
       "933             Mohawk Airlines Flight 411 - Wikipedia       18\n",
       "934                               Ālambana - Wikipedia       16\n",
       "935                             Saadi Town - Wikipedia       25\n",
       "936  1948 Men's European Volleyball Championship - ...       -1\n",
       "\n",
       "[937 rows x 2 columns]"
      ]
     },
     "execution_count": 5,
     "metadata": {},
     "output_type": "execute_result"
    }
   ],
   "source": [
    "df = pd.read_csv(\"results_20241027-063423.csv\")\n",
    "df"
   ]
  },
  {
   "cell_type": "code",
   "execution_count": 6,
   "id": "96c0db1d",
   "metadata": {},
   "outputs": [],
   "source": [
    "total_wiki_pages = 61718170 # according to Wikipedia\n",
    "\n",
    "valid_degrees = df[~df['degrees'].isin([-1, -2, -3])]['degrees']\n",
    "median_degree = valid_degrees.median()\n",
    "degree_distribution = valid_degrees.value_counts().sort_index()\n",
    "\n",
    "degree_6_count = len(df[df['degrees'] == 6])\n",
    "degree_6_percentage = (degree_6_count / len(df)) * 100\n",
    "\n",
    "estimated_degree_6_total = int((degree_6_percentage / 100) * total_wiki_pages)"
   ]
  },
  {
   "cell_type": "code",
   "execution_count": 7,
   "id": "8434bfe7",
   "metadata": {},
   "outputs": [
    {
     "data": {
      "image/png": "[encoded data removed]",
      "text/plain": [
       "<Figure size 1200x600 with 1 Axes>"
      ]
     },
     "metadata": {},
     "output_type": "display_data"
    }
   ],
   "source": [
    "plt.figure(figsize=(12, 6))\n",
    "plt.bar(degree_distribution.index, degree_distribution.values)\n",
    "plt.title(\"Distribution of Degrees of Separation Between Random Page to Philosophy Page [En Wiki]\")\n",
    "plt.xlabel(\"Degrees of Separation\")\n",
    "plt.ylabel(\"Number of Pages\")\n",
    "plt.show()"
   ]
  },
  {
   "cell_type": "code",
   "execution_count": 8,
   "id": "be1ad328",
   "metadata": {},
   "outputs": [
    {
     "name": "stdout",
     "output_type": "stream",
     "text": [
      "Median degree of separation: 17.0\n",
      "\n",
      "Pages with degree 6 in sample: 2 (0.21%)\n",
      "\n",
      "Estimated total Wikipedia pages with degree 6: 131,735\n"
     ]
    }
   ],
   "source": [
    "print(f\"Median degree of separation: {median_degree}\")\n",
    "print(f\"\\nPages with degree 6 in sample: {degree_6_count} ({degree_6_percentage:.2f}%)\")\n",
    "print(f\"\\nEstimated total Wikipedia pages with degree 6: {estimated_degree_6_total:,}\")"
   ]
  },
  {
   "cell_type": "markdown",
   "id": "8d625164",
   "metadata": {},
   "source": [
    "## Cebuano Wikipedia"
   ]
  },
  {
   "cell_type": "code",
   "execution_count": 9,
   "id": "0cfa8092",
   "metadata": {},
   "outputs": [],
   "source": [
    "def find_philosophy(\n",
    "        start_url: str = \"https://ceb.wikipedia.org/wiki/Special:Random\",\n",
    "        target_url: str = \"https://en.wikipedia.org/wiki/Philosophy\",\n",
    ") -> Tuple[str, int]:\n",
    "    \n",
    "\tnext_url = start_url\n",
    "\tlast_url = next_url\n",
    "\tvisited_urls = set()\n",
    "\tdegrees = 0\n",
    "\thref_count = 0 \n",
    "\n",
    "\ttry:\n",
    "\t\toptions = webdriver.ChromeOptions()\n",
    "\t\toptions.add_argument(\"--headless\")\n",
    "\t\tpath = \"/usr/local/bin/chromedriver\"\n",
    "\t\tchrome_service = webdriver.ChromeService(executable_path=path)\n",
    "\t\tdriver = webdriver.Chrome(service=chrome_service, options=options)\n",
    "\t\tdriver.get(start_url)\n",
    "\t\tstarting_title = driver.title\n",
    "\n",
    "\t\twhile True:\n",
    "\t\t\tif next_url in visited_urls:\n",
    "\t\t\t\tdegrees = -1\n",
    "\t\t\t\tlast_url = next_url\n",
    "\t\t\t\tprint(\"Loop detected!\")\n",
    "\t\t\t\tbreak\n",
    "\n",
    "\t\t\tif next_url == target_url:\n",
    "\t\t\t\tprint(\"Philosophy has been reached!\")\n",
    "\t\t\t\tbreak\n",
    "\n",
    "\t\t\tvisited_urls.add(next_url)\n",
    "\t\t\tdriver.get(next_url)\n",
    "\n",
    "\t\t\ttry:\n",
    "\t\t\t\tmain_content = driver.find_element(\"id\", \"mw-content-text\")\n",
    "\t\t\t\tlinks = main_content.find_elements(By.CSS_SELECTOR, \"div.mw-parser-output > p a\")\n",
    "\n",
    "\t\t\t\tfound_valid_link = False\n",
    "\n",
    "\t\t\t\tfor link in links[:5]:\n",
    "\t\t\t\t\thref = link.get_attribute(\"href\")\n",
    "\t\t\t\t\tif (\n",
    "\t\t\t\t\t\thref and \"/wiki\" in href and\n",
    "\t\t\t\t\t\t\":\" not in href.split(\"/wiki/\")[-1] and\n",
    "\t\t\t\t\t\t\"cite_note\" not in href\n",
    "\t\t\t\t\t):\n",
    "\t\t\t\t\t\tnext_url = href\n",
    "\t\t\t\t\t\tfound_valid_link = True\n",
    "\t\t\t\t\t\tdegrees += 1\n",
    "\t\t\t\t\t\thref_count += 1\n",
    "\t\t\t\t\t\tbreak\n",
    "\n",
    "\t\t\t\tif not found_valid_link:\n",
    "\t\t\t\t\tdegrees = -2\n",
    "\t\t\t\t\tprint(\"Invalid link!\")\n",
    "\t\t\t\t\tbreak\n",
    "\n",
    "\t\t\texcept NoSuchElementException:\n",
    "\t\t\t\tdegrees = -3\n",
    "\t\t\t\tbreak\n",
    "\n",
    "\t\t\ttime.sleep(0.5)\n",
    "\n",
    "\tfinally:\n",
    "\t\tdriver.quit()\n",
    "\n",
    "\treturn (starting_title, last_url, degrees, href_count)"
   ]
  },
  {
   "cell_type": "code",
   "execution_count": 10,
   "id": "05f0fe42",
   "metadata": {},
   "outputs": [
    {
     "name": "stdout",
     "output_type": "stream",
     "text": [
      "Loop detected!\n"
     ]
    },
    {
     "data": {
      "text/plain": [
       "('Imperyong Persyano - Wikipedia',\n",
       " 'https://ceb.wikipedia.org/wiki/Pinulongang_Romanse',\n",
       " -1,\n",
       " 5)"
      ]
     },
     "execution_count": 10,
     "metadata": {},
     "output_type": "execute_result"
    }
   ],
   "source": [
    "results = find_philosophy(start_url=\"https://ceb.wikipedia.org/wiki/Imperyong_Persyano\")\n",
    "results"
   ]
  },
  {
   "cell_type": "code",
   "execution_count": 11,
   "id": "9c320640",
   "metadata": {},
   "outputs": [
    {
     "name": "stdout",
     "output_type": "stream",
     "text": [
      "Processing page 0/1000...\n",
      "Loop detected!\n",
      "Loop detected!\n"
     ]
    }
   ],
   "source": [
    "pages = {}\n",
    "\n",
    "for i in range(2):\n",
    "    if i % 10 == 0:\n",
    "        print(f\"Processing page {i}/1000...\")\n",
    "    key, value1, value2, value3 = find_philosophy()\n",
    "    pages[key] = {\n",
    "        \"last_page\": value1,\n",
    "        \"termination\": value2,\n",
    "        \"href_count\": value3,\n",
    "    }"
   ]
  },
  {
   "cell_type": "code",
   "execution_count": 12,
   "id": "2cb8b20d",
   "metadata": {},
   "outputs": [
    {
     "data": {
      "text/html": [
       "<div>\n",
       "<style scoped>\n",
       "    .dataframe tbody tr th:only-of-type {\n",
       "        vertical-align: middle;\n",
       "    }\n",
       "\n",
       "    .dataframe tbody tr th {\n",
       "        vertical-align: top;\n",
       "    }\n",
       "\n",
       "    .dataframe thead th {\n",
       "        text-align: right;\n",
       "    }\n",
       "</style>\n",
       "<table border=\"1\" class=\"dataframe\">\n",
       "  <thead>\n",
       "    <tr style=\"text-align: right;\">\n",
       "      <th></th>\n",
       "      <th>start_page</th>\n",
       "      <th>last_page</th>\n",
       "      <th>termination</th>\n",
       "      <th>href_count</th>\n",
       "    </tr>\n",
       "  </thead>\n",
       "  <tbody>\n",
       "    <tr>\n",
       "      <th>0</th>\n",
       "      <td>Deserpa Flat - Wikipedia</td>\n",
       "      <td>https://ceb.wikipedia.org/wiki/Pransiya</td>\n",
       "      <td>-1</td>\n",
       "      <td>10</td>\n",
       "    </tr>\n",
       "    <tr>\n",
       "      <th>1</th>\n",
       "      <td>Buffalo Branch (suba sa Tinipong Bansa, Kentuc...</td>\n",
       "      <td>https://ceb.wikipedia.org/wiki/Pransiya</td>\n",
       "      <td>-1</td>\n",
       "      <td>18</td>\n",
       "    </tr>\n",
       "  </tbody>\n",
       "</table>\n",
       "</div>"
      ],
      "text/plain": [
       "                                          start_page  \\\n",
       "0                           Deserpa Flat - Wikipedia   \n",
       "1  Buffalo Branch (suba sa Tinipong Bansa, Kentuc...   \n",
       "\n",
       "                                 last_page  termination  href_count  \n",
       "0  https://ceb.wikipedia.org/wiki/Pransiya           -1          10  \n",
       "1  https://ceb.wikipedia.org/wiki/Pransiya           -1          18  "
      ]
     },
     "execution_count": 12,
     "metadata": {},
     "output_type": "execute_result"
    }
   ],
   "source": [
    "df = pd.DataFrame.from_dict(pages, orient=\"index\").reset_index().rename(columns={\"index\": \"start_page\"})\n",
    "df"
   ]
  },
  {
   "cell_type": "code",
   "execution_count": 20,
   "id": "28424bad",
   "metadata": {},
   "outputs": [
    {
     "data": {
      "text/html": [
       "<div>\n",
       "<style scoped>\n",
       "    .dataframe tbody tr th:only-of-type {\n",
       "        vertical-align: middle;\n",
       "    }\n",
       "\n",
       "    .dataframe tbody tr th {\n",
       "        vertical-align: top;\n",
       "    }\n",
       "\n",
       "    .dataframe thead th {\n",
       "        text-align: right;\n",
       "    }\n",
       "</style>\n",
       "<table border=\"1\" class=\"dataframe\">\n",
       "  <thead>\n",
       "    <tr style=\"text-align: right;\">\n",
       "      <th></th>\n",
       "      <th>start_page</th>\n",
       "      <th>last_page</th>\n",
       "      <th>termination</th>\n",
       "      <th>href_count</th>\n",
       "    </tr>\n",
       "  </thead>\n",
       "  <tbody>\n",
       "    <tr>\n",
       "      <th>0</th>\n",
       "      <td>Magogoni - Wikipedia</td>\n",
       "      <td>https://ceb.wikipedia.org/wiki/Pransiya</td>\n",
       "      <td>-1</td>\n",
       "      <td>10</td>\n",
       "    </tr>\n",
       "    <tr>\n",
       "      <th>1</th>\n",
       "      <td>Gagarawa (kapital sa distrito) - Wikipedia</td>\n",
       "      <td>https://ceb.wikipedia.org/wiki/Pransiya</td>\n",
       "      <td>-1</td>\n",
       "      <td>18</td>\n",
       "    </tr>\n",
       "    <tr>\n",
       "      <th>2</th>\n",
       "      <td>Srpnica (suba nga anhianhi sa Makedoniya) - Wi...</td>\n",
       "      <td>https://ceb.wikipedia.org/wiki/Pransiya</td>\n",
       "      <td>-1</td>\n",
       "      <td>10</td>\n",
       "    </tr>\n",
       "    <tr>\n",
       "      <th>3</th>\n",
       "      <td>Spring Glacier (suba sa yelo sa Kanada) - Wiki...</td>\n",
       "      <td>https://ceb.wikipedia.org/wiki/Special:Random</td>\n",
       "      <td>-2</td>\n",
       "      <td>3</td>\n",
       "    </tr>\n",
       "    <tr>\n",
       "      <th>4</th>\n",
       "      <td>Jebel Tizelmi - Wikipedia</td>\n",
       "      <td>https://ceb.wikipedia.org/wiki/Pransiya</td>\n",
       "      <td>-1</td>\n",
       "      <td>18</td>\n",
       "    </tr>\n",
       "    <tr>\n",
       "      <th>...</th>\n",
       "      <td>...</td>\n",
       "      <td>...</td>\n",
       "      <td>...</td>\n",
       "      <td>...</td>\n",
       "    </tr>\n",
       "    <tr>\n",
       "      <th>909</th>\n",
       "      <td>Calathus zabroides - Wikipedia</td>\n",
       "      <td>https://ceb.wikipedia.org/wiki/Inglatera</td>\n",
       "      <td>-1</td>\n",
       "      <td>6</td>\n",
       "    </tr>\n",
       "    <tr>\n",
       "      <th>910</th>\n",
       "      <td>Gunville Ridge - Wikipedia</td>\n",
       "      <td>https://ceb.wikipedia.org/wiki/Special:Random</td>\n",
       "      <td>-2</td>\n",
       "      <td>2</td>\n",
       "    </tr>\n",
       "    <tr>\n",
       "      <th>911</th>\n",
       "      <td>Čivčijeska Reka - Wikipedia</td>\n",
       "      <td>https://ceb.wikipedia.org/wiki/Special:Random</td>\n",
       "      <td>-2</td>\n",
       "      <td>1</td>\n",
       "    </tr>\n",
       "    <tr>\n",
       "      <th>912</th>\n",
       "      <td>Lestoniella nuevoleon - Wikipedia</td>\n",
       "      <td>https://ceb.wikipedia.org/wiki/Kinatsila</td>\n",
       "      <td>-1</td>\n",
       "      <td>6</td>\n",
       "    </tr>\n",
       "    <tr>\n",
       "      <th>913</th>\n",
       "      <td>Astragalus erythrosemius - Wikipedia</td>\n",
       "      <td>https://ceb.wikipedia.org/wiki/Pransiya</td>\n",
       "      <td>-1</td>\n",
       "      <td>17</td>\n",
       "    </tr>\n",
       "  </tbody>\n",
       "</table>\n",
       "<p>914 rows × 4 columns</p>\n",
       "</div>"
      ],
      "text/plain": [
       "                                            start_page  \\\n",
       "0                                 Magogoni - Wikipedia   \n",
       "1           Gagarawa (kapital sa distrito) - Wikipedia   \n",
       "2    Srpnica (suba nga anhianhi sa Makedoniya) - Wi...   \n",
       "3    Spring Glacier (suba sa yelo sa Kanada) - Wiki...   \n",
       "4                            Jebel Tizelmi - Wikipedia   \n",
       "..                                                 ...   \n",
       "909                     Calathus zabroides - Wikipedia   \n",
       "910                         Gunville Ridge - Wikipedia   \n",
       "911                        Čivčijeska Reka - Wikipedia   \n",
       "912                  Lestoniella nuevoleon - Wikipedia   \n",
       "913               Astragalus erythrosemius - Wikipedia   \n",
       "\n",
       "                                         last_page  termination  href_count  \n",
       "0          https://ceb.wikipedia.org/wiki/Pransiya           -1          10  \n",
       "1          https://ceb.wikipedia.org/wiki/Pransiya           -1          18  \n",
       "2          https://ceb.wikipedia.org/wiki/Pransiya           -1          10  \n",
       "3    https://ceb.wikipedia.org/wiki/Special:Random           -2           3  \n",
       "4          https://ceb.wikipedia.org/wiki/Pransiya           -1          18  \n",
       "..                                             ...          ...         ...  \n",
       "909       https://ceb.wikipedia.org/wiki/Inglatera           -1           6  \n",
       "910  https://ceb.wikipedia.org/wiki/Special:Random           -2           2  \n",
       "911  https://ceb.wikipedia.org/wiki/Special:Random           -2           1  \n",
       "912       https://ceb.wikipedia.org/wiki/Kinatsila           -1           6  \n",
       "913        https://ceb.wikipedia.org/wiki/Pransiya           -1          17  \n",
       "\n",
       "[914 rows x 4 columns]"
      ]
     },
     "execution_count": 20,
     "metadata": {},
     "output_type": "execute_result"
    }
   ],
   "source": [
    "df = pd.read_csv(\"results_20241027-083929.csv\")\n",
    "df"
   ]
  },
  {
   "cell_type": "code",
   "execution_count": 21,
   "id": "d5c16db4",
   "metadata": {},
   "outputs": [],
   "source": [
    "termination_dict = {\n",
    "    -1: \"loop\",\n",
    "    -2: \"invalid_link\",\n",
    "    -3: \"no_element\"\n",
    "}"
   ]
  },
  {
   "cell_type": "code",
   "execution_count": 22,
   "id": "a280d4ec",
   "metadata": {},
   "outputs": [
    {
     "data": {
      "text/html": [
       "<div>\n",
       "<style scoped>\n",
       "    .dataframe tbody tr th:only-of-type {\n",
       "        vertical-align: middle;\n",
       "    }\n",
       "\n",
       "    .dataframe tbody tr th {\n",
       "        vertical-align: top;\n",
       "    }\n",
       "\n",
       "    .dataframe thead th {\n",
       "        text-align: right;\n",
       "    }\n",
       "</style>\n",
       "<table border=\"1\" class=\"dataframe\">\n",
       "  <thead>\n",
       "    <tr style=\"text-align: right;\">\n",
       "      <th></th>\n",
       "      <th>start_page</th>\n",
       "      <th>last_page</th>\n",
       "      <th>termination</th>\n",
       "      <th>href_count</th>\n",
       "    </tr>\n",
       "  </thead>\n",
       "  <tbody>\n",
       "    <tr>\n",
       "      <th>0</th>\n",
       "      <td>Magogoni - Wikipedia</td>\n",
       "      <td>Pransiya</td>\n",
       "      <td>loop</td>\n",
       "      <td>10</td>\n",
       "    </tr>\n",
       "    <tr>\n",
       "      <th>1</th>\n",
       "      <td>Gagarawa (kapital sa distrito) - Wikipedia</td>\n",
       "      <td>Pransiya</td>\n",
       "      <td>loop</td>\n",
       "      <td>18</td>\n",
       "    </tr>\n",
       "    <tr>\n",
       "      <th>2</th>\n",
       "      <td>Srpnica (suba nga anhianhi sa Makedoniya) - Wi...</td>\n",
       "      <td>Pransiya</td>\n",
       "      <td>loop</td>\n",
       "      <td>10</td>\n",
       "    </tr>\n",
       "    <tr>\n",
       "      <th>3</th>\n",
       "      <td>Spring Glacier (suba sa yelo sa Kanada) - Wiki...</td>\n",
       "      <td>Special:Random</td>\n",
       "      <td>invalid_link</td>\n",
       "      <td>3</td>\n",
       "    </tr>\n",
       "    <tr>\n",
       "      <th>4</th>\n",
       "      <td>Jebel Tizelmi - Wikipedia</td>\n",
       "      <td>Pransiya</td>\n",
       "      <td>loop</td>\n",
       "      <td>18</td>\n",
       "    </tr>\n",
       "    <tr>\n",
       "      <th>...</th>\n",
       "      <td>...</td>\n",
       "      <td>...</td>\n",
       "      <td>...</td>\n",
       "      <td>...</td>\n",
       "    </tr>\n",
       "    <tr>\n",
       "      <th>909</th>\n",
       "      <td>Calathus zabroides - Wikipedia</td>\n",
       "      <td>Inglatera</td>\n",
       "      <td>loop</td>\n",
       "      <td>6</td>\n",
       "    </tr>\n",
       "    <tr>\n",
       "      <th>910</th>\n",
       "      <td>Gunville Ridge - Wikipedia</td>\n",
       "      <td>Special:Random</td>\n",
       "      <td>invalid_link</td>\n",
       "      <td>2</td>\n",
       "    </tr>\n",
       "    <tr>\n",
       "      <th>911</th>\n",
       "      <td>Čivčijeska Reka - Wikipedia</td>\n",
       "      <td>Special:Random</td>\n",
       "      <td>invalid_link</td>\n",
       "      <td>1</td>\n",
       "    </tr>\n",
       "    <tr>\n",
       "      <th>912</th>\n",
       "      <td>Lestoniella nuevoleon - Wikipedia</td>\n",
       "      <td>Kinatsila</td>\n",
       "      <td>loop</td>\n",
       "      <td>6</td>\n",
       "    </tr>\n",
       "    <tr>\n",
       "      <th>913</th>\n",
       "      <td>Astragalus erythrosemius - Wikipedia</td>\n",
       "      <td>Pransiya</td>\n",
       "      <td>loop</td>\n",
       "      <td>17</td>\n",
       "    </tr>\n",
       "  </tbody>\n",
       "</table>\n",
       "<p>914 rows × 4 columns</p>\n",
       "</div>"
      ],
      "text/plain": [
       "                                            start_page       last_page  \\\n",
       "0                                 Magogoni - Wikipedia        Pransiya   \n",
       "1           Gagarawa (kapital sa distrito) - Wikipedia        Pransiya   \n",
       "2    Srpnica (suba nga anhianhi sa Makedoniya) - Wi...        Pransiya   \n",
       "3    Spring Glacier (suba sa yelo sa Kanada) - Wiki...  Special:Random   \n",
       "4                            Jebel Tizelmi - Wikipedia        Pransiya   \n",
       "..                                                 ...             ...   \n",
       "909                     Calathus zabroides - Wikipedia       Inglatera   \n",
       "910                         Gunville Ridge - Wikipedia  Special:Random   \n",
       "911                        Čivčijeska Reka - Wikipedia  Special:Random   \n",
       "912                  Lestoniella nuevoleon - Wikipedia       Kinatsila   \n",
       "913               Astragalus erythrosemius - Wikipedia        Pransiya   \n",
       "\n",
       "      termination  href_count  \n",
       "0            loop          10  \n",
       "1            loop          18  \n",
       "2            loop          10  \n",
       "3    invalid_link           3  \n",
       "4            loop          18  \n",
       "..            ...         ...  \n",
       "909          loop           6  \n",
       "910  invalid_link           2  \n",
       "911  invalid_link           1  \n",
       "912          loop           6  \n",
       "913          loop          17  \n",
       "\n",
       "[914 rows x 4 columns]"
      ]
     },
     "execution_count": 22,
     "metadata": {},
     "output_type": "execute_result"
    }
   ],
   "source": [
    "df[\"last_page\"] = df[\"last_page\"].str.split(\"wiki/\").str[1]\n",
    "df[\"termination\"] = df[\"termination\"].map(termination_dict)\n",
    "df"
   ]
  },
  {
   "cell_type": "code",
   "execution_count": 23,
   "id": "72f58e5e",
   "metadata": {},
   "outputs": [
    {
     "data": {
      "image/png": "[encoded data removed]",
      "text/plain": [
       "<Figure size 1200x600 with 1 Axes>"
      ]
     },
     "metadata": {},
     "output_type": "display_data"
    }
   ],
   "source": [
    "termination_df = df.groupby(\"termination\").start_page.count().reset_index()\n",
    "\n",
    "plt.figure(figsize=(12, 6))\n",
    "plt.bar(termination_df.termination, termination_df.start_page)\n",
    "plt.title(\"Count by Termination Reasons [Ceb Wiki]\")\n",
    "plt.xlabel(\"Termination Reason\")\n",
    "plt.ylabel(\"Count\")\n",
    "plt.show()"
   ]
  },
  {
   "cell_type": "markdown",
   "id": "8dd8d6e2",
   "metadata": {},
   "source": [
    "Most links terminate after encountering a loop, while others lead to invalid links."
   ]
  },
  {
   "cell_type": "code",
   "execution_count": 24,
   "id": "06b10e44",
   "metadata": {},
   "outputs": [],
   "source": [
    "top_loop = df[\"last_page\"].value_counts().index[0]\n",
    "avg_degree_distribution = df[\"href_count\"].mean()\n",
    "median_degree_distribution = df[\"href_count\"].median()\n",
    "\n",
    "degree_distribution = df[\"href_count\"].value_counts().sort_index()"
   ]
  },
  {
   "cell_type": "code",
   "execution_count": 25,
   "id": "3e2d47e9",
   "metadata": {},
   "outputs": [
    {
     "name": "stdout",
     "output_type": "stream",
     "text": [
      "Top page where others lead back to: Pransiya\n",
      "\n",
      "Average degree of separation: 9.272428884026258\n",
      "\n",
      "Median degree of separation: 10.0\n"
     ]
    }
   ],
   "source": [
    "print(f\"Top page where others lead back to: {top_loop}\")\n",
    "print(f\"\\nAverage degree of separation: {avg_degree_distribution}\")\n",
    "print(f\"\\nMedian degree of separation: {median_degree_distribution}\")"
   ]
  },
  {
   "cell_type": "code",
   "execution_count": 26,
   "id": "3a5cb421",
   "metadata": {},
   "outputs": [
    {
     "data": {
      "image/png": "[encoded data removed]",
      "text/plain": [
       "<Figure size 1200x600 with 1 Axes>"
      ]
     },
     "metadata": {},
     "output_type": "display_data"
    }
   ],
   "source": [
    "plt.figure(figsize=(12, 6))\n",
    "plt.bar(degree_distribution.index, degree_distribution.values)\n",
    "plt.title(\"Distribution of Degrees of Separation Between Random Page to Philosophy Page [Ceb Wiki]\")\n",
    "plt.xlabel(\"Degrees of Separation\")\n",
    "plt.ylabel(\"Number of Pages\")\n",
    "plt.show()"
   ]
  },
  {
   "cell_type": "code",
   "execution_count": null,
   "id": "75af19c5",
   "metadata": {},
   "outputs": [],
   "source": []
  }
 ],
 "metadata": {
  "kernelspec": {
   "display_name": "base",
   "language": "python",
   "name": "python3"
  },
  "language_info": {
   "codemirror_mode": {
    "name": "ipython",
    "version": 3
   },
   "file_extension": ".py",
   "mimetype": "text/x-python",
   "name": "python",
   "nbconvert_exporter": "python",
   "pygments_lexer": "ipython3",
   "version": "3.10.9"
  }
 },
 "nbformat": 4,
 "nbformat_minor": 5
}
